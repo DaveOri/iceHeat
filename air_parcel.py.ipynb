{
 "cells": [
  {
   "cell_type": "code",
   "execution_count": 14,
   "metadata": {},
   "outputs": [],
   "source": [
    "from meteoSI import g, Rair, Rvapor, Cp, Tnull, T_virt_rh\n",
    "Cw = 4182. # specific heat of water J/K/kg\n",
    "Ci = 2093. # specific heat of ice J/K/kg\n",
    "Lc = 2.501e6 # latent heat of condensation J/kg\n",
    "Ls = 2.834e6 # latent heat of sublimation J/kg\n",
    "Lf = Ls - Lc # latent heat of fusion\n",
    "\n",
    "p = 700e2 # pressure\n",
    "T = -Tnull - 15. # temperature\n",
    "rh = 1.1 # relative humidity\n",
    "q_hydro = 10.e-3 # mixing ratio of hydrometeors (contributing to air density)\n",
    "\n",
    "Tv = T_virt_rh(T, rh, p)"
   ]
  },
  {
   "cell_type": "code",
   "execution_count": 16,
   "metadata": {},
   "outputs": [
    {
     "data": {
      "text/plain": [
       "(258.443279600887, 258.15)"
      ]
     },
     "execution_count": 16,
     "metadata": {},
     "output_type": "execute_result"
    }
   ],
   "source": []
  },
  {
   "cell_type": "code",
   "execution_count": null,
   "metadata": {},
   "outputs": [],
   "source": []
  }
 ],
 "metadata": {
  "kernelspec": {
   "display_name": "Python 3",
   "language": "python",
   "name": "python3"
  },
  "language_info": {
   "codemirror_mode": {
    "name": "ipython",
    "version": 3
   },
   "file_extension": ".py",
   "mimetype": "text/x-python",
   "name": "python",
   "nbconvert_exporter": "python",
   "pygments_lexer": "ipython3",
   "version": "3.7.3"
  }
 },
 "nbformat": 4,
 "nbformat_minor": 2
}
